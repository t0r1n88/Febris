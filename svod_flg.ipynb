{
 "cells": [
  {
   "cell_type": "code",
   "execution_count": 60,
   "id": "d2d3de00",
   "metadata": {},
   "outputs": [
    {
     "data": {
      "text/plain": [
       "'\\nСкрипт для создания свода по флюрографии\\n'"
      ]
     },
     "execution_count": 60,
     "metadata": {},
     "output_type": "execute_result"
    }
   ],
   "source": [
    "\"\"\"\n",
    "Скрипт для создания свода по флюрографии\n",
    "\"\"\""
   ]
  },
  {
   "cell_type": "code",
   "execution_count": 102,
   "id": "04426e4b",
   "metadata": {},
   "outputs": [],
   "source": [
    "import pandas as pd\n",
    "import numpy as np\n",
    "import openpyxl\n",
    "import os"
   ]
  },
  {
   "cell_type": "code",
   "execution_count": 110,
   "id": "657370fe",
   "metadata": {},
   "outputs": [],
   "source": [
    "path_to_data_flg = 'data'\n",
    "base_df = None"
   ]
  },
  {
   "cell_type": "code",
   "execution_count": 111,
   "id": "bcc7a752",
   "metadata": {},
   "outputs": [
    {
     "name": "stdout",
     "output_type": "stream",
     "text": [
      "1 гп  декабрь 2022 г.\n",
      "2 гп ФЛГ за 12  мес 2022\n"
     ]
    },
    {
     "name": "stderr",
     "output_type": "stream",
     "text": [
      "C:\\Users\\1\\AppData\\Local\\Temp/ipykernel_15332/4129337256.py:33: SettingWithCopyWarning: \n",
      "A value is trying to be set on a copy of a slice from a DataFrame\n",
      "\n",
      "See the caveats in the documentation: https://pandas.pydata.org/pandas-docs/stable/user_guide/indexing.html#returning-a-view-versus-a-copy\n",
      "  temp_df.fillna(0,inplace=True)\n",
      "C:\\Users\\1\\AppData\\Local\\Temp/ipykernel_15332/4129337256.py:33: SettingWithCopyWarning: \n",
      "A value is trying to be set on a copy of a slice from a DataFrame\n",
      "\n",
      "See the caveats in the documentation: https://pandas.pydata.org/pandas-docs/stable/user_guide/indexing.html#returning-a-view-versus-a-copy\n",
      "  temp_df.fillna(0,inplace=True)\n"
     ]
    },
    {
     "ename": "ValueError",
     "evalue": "invalid literal for int() with base 10: 'ПЛАН'",
     "output_type": "error",
     "traceback": [
      "\u001b[1;31m---------------------------------------------------------------------------\u001b[0m",
      "\u001b[1;31mValueError\u001b[0m                                Traceback (most recent call last)",
      "\u001b[1;32m~\\AppData\\Local\\Temp/ipykernel_15332/4129337256.py\u001b[0m in \u001b[0;36m<module>\u001b[1;34m\u001b[0m\n\u001b[0;32m     33\u001b[0m     \u001b[0mtemp_df\u001b[0m\u001b[1;33m.\u001b[0m\u001b[0mfillna\u001b[0m\u001b[1;33m(\u001b[0m\u001b[1;36m0\u001b[0m\u001b[1;33m,\u001b[0m\u001b[0minplace\u001b[0m\u001b[1;33m=\u001b[0m\u001b[1;32mTrue\u001b[0m\u001b[1;33m)\u001b[0m\u001b[1;33m\u001b[0m\u001b[1;33m\u001b[0m\u001b[0m\n\u001b[0;32m     34\u001b[0m \u001b[1;33m\u001b[0m\u001b[0m\n\u001b[1;32m---> 35\u001b[1;33m     \u001b[0mtemp_df\u001b[0m \u001b[1;33m=\u001b[0m \u001b[0mtemp_df\u001b[0m\u001b[1;33m.\u001b[0m\u001b[0mapplymap\u001b[0m\u001b[1;33m(\u001b[0m\u001b[0mint\u001b[0m\u001b[1;33m)\u001b[0m\u001b[1;33m\u001b[0m\u001b[1;33m\u001b[0m\u001b[0m\n\u001b[0m\u001b[0;32m     36\u001b[0m \u001b[1;33m\u001b[0m\u001b[0m\n\u001b[0;32m     37\u001b[0m     \u001b[0mtemp_df\u001b[0m\u001b[1;33m[\u001b[0m\u001b[1;34m'% выполнения'\u001b[0m\u001b[1;33m]\u001b[0m \u001b[1;33m=\u001b[0m \u001b[0mround\u001b[0m\u001b[1;33m(\u001b[0m\u001b[1;33m(\u001b[0m\u001b[0mtemp_df\u001b[0m\u001b[1;33m[\u001b[0m\u001b[1;36m8\u001b[0m\u001b[1;33m]\u001b[0m \u001b[1;33m/\u001b[0m \u001b[0mtemp_df\u001b[0m\u001b[1;33m[\u001b[0m\u001b[1;36m2\u001b[0m\u001b[1;33m]\u001b[0m\u001b[1;33m)\u001b[0m \u001b[1;33m*\u001b[0m\u001b[1;36m100\u001b[0m\u001b[1;33m,\u001b[0m\u001b[1;36m1\u001b[0m\u001b[1;33m)\u001b[0m\u001b[1;33m\u001b[0m\u001b[1;33m\u001b[0m\u001b[0m\n",
      "\u001b[1;32m~\\anaconda3\\lib\\site-packages\\pandas\\core\\frame.py\u001b[0m in \u001b[0;36mapplymap\u001b[1;34m(self, func, na_action, **kwargs)\u001b[0m\n\u001b[0;32m   9651\u001b[0m             \u001b[1;32mreturn\u001b[0m \u001b[0mlib\u001b[0m\u001b[1;33m.\u001b[0m\u001b[0mmap_infer\u001b[0m\u001b[1;33m(\u001b[0m\u001b[0mx\u001b[0m\u001b[1;33m.\u001b[0m\u001b[0mastype\u001b[0m\u001b[1;33m(\u001b[0m\u001b[0mobject\u001b[0m\u001b[1;33m)\u001b[0m\u001b[1;33m.\u001b[0m\u001b[0m_values\u001b[0m\u001b[1;33m,\u001b[0m \u001b[0mfunc\u001b[0m\u001b[1;33m,\u001b[0m \u001b[0mignore_na\u001b[0m\u001b[1;33m=\u001b[0m\u001b[0mignore_na\u001b[0m\u001b[1;33m)\u001b[0m\u001b[1;33m\u001b[0m\u001b[1;33m\u001b[0m\u001b[0m\n\u001b[0;32m   9652\u001b[0m \u001b[1;33m\u001b[0m\u001b[0m\n\u001b[1;32m-> 9653\u001b[1;33m         \u001b[1;32mreturn\u001b[0m \u001b[0mself\u001b[0m\u001b[1;33m.\u001b[0m\u001b[0mapply\u001b[0m\u001b[1;33m(\u001b[0m\u001b[0minfer\u001b[0m\u001b[1;33m)\u001b[0m\u001b[1;33m.\u001b[0m\u001b[0m__finalize__\u001b[0m\u001b[1;33m(\u001b[0m\u001b[0mself\u001b[0m\u001b[1;33m,\u001b[0m \u001b[1;34m\"applymap\"\u001b[0m\u001b[1;33m)\u001b[0m\u001b[1;33m\u001b[0m\u001b[1;33m\u001b[0m\u001b[0m\n\u001b[0m\u001b[0;32m   9654\u001b[0m \u001b[1;33m\u001b[0m\u001b[0m\n\u001b[0;32m   9655\u001b[0m     \u001b[1;31m# ----------------------------------------------------------------------\u001b[0m\u001b[1;33m\u001b[0m\u001b[1;33m\u001b[0m\u001b[0m\n",
      "\u001b[1;32m~\\anaconda3\\lib\\site-packages\\pandas\\core\\frame.py\u001b[0m in \u001b[0;36mapply\u001b[1;34m(self, func, axis, raw, result_type, args, **kwargs)\u001b[0m\n\u001b[0;32m   9566\u001b[0m             \u001b[0mkwargs\u001b[0m\u001b[1;33m=\u001b[0m\u001b[0mkwargs\u001b[0m\u001b[1;33m,\u001b[0m\u001b[1;33m\u001b[0m\u001b[1;33m\u001b[0m\u001b[0m\n\u001b[0;32m   9567\u001b[0m         )\n\u001b[1;32m-> 9568\u001b[1;33m         \u001b[1;32mreturn\u001b[0m \u001b[0mop\u001b[0m\u001b[1;33m.\u001b[0m\u001b[0mapply\u001b[0m\u001b[1;33m(\u001b[0m\u001b[1;33m)\u001b[0m\u001b[1;33m.\u001b[0m\u001b[0m__finalize__\u001b[0m\u001b[1;33m(\u001b[0m\u001b[0mself\u001b[0m\u001b[1;33m,\u001b[0m \u001b[0mmethod\u001b[0m\u001b[1;33m=\u001b[0m\u001b[1;34m\"apply\"\u001b[0m\u001b[1;33m)\u001b[0m\u001b[1;33m\u001b[0m\u001b[1;33m\u001b[0m\u001b[0m\n\u001b[0m\u001b[0;32m   9569\u001b[0m \u001b[1;33m\u001b[0m\u001b[0m\n\u001b[0;32m   9570\u001b[0m     def applymap(\n",
      "\u001b[1;32m~\\anaconda3\\lib\\site-packages\\pandas\\core\\apply.py\u001b[0m in \u001b[0;36mapply\u001b[1;34m(self)\u001b[0m\n\u001b[0;32m    762\u001b[0m             \u001b[1;32mreturn\u001b[0m \u001b[0mself\u001b[0m\u001b[1;33m.\u001b[0m\u001b[0mapply_raw\u001b[0m\u001b[1;33m(\u001b[0m\u001b[1;33m)\u001b[0m\u001b[1;33m\u001b[0m\u001b[1;33m\u001b[0m\u001b[0m\n\u001b[0;32m    763\u001b[0m \u001b[1;33m\u001b[0m\u001b[0m\n\u001b[1;32m--> 764\u001b[1;33m         \u001b[1;32mreturn\u001b[0m \u001b[0mself\u001b[0m\u001b[1;33m.\u001b[0m\u001b[0mapply_standard\u001b[0m\u001b[1;33m(\u001b[0m\u001b[1;33m)\u001b[0m\u001b[1;33m\u001b[0m\u001b[1;33m\u001b[0m\u001b[0m\n\u001b[0m\u001b[0;32m    765\u001b[0m \u001b[1;33m\u001b[0m\u001b[0m\n\u001b[0;32m    766\u001b[0m     \u001b[1;32mdef\u001b[0m \u001b[0magg\u001b[0m\u001b[1;33m(\u001b[0m\u001b[0mself\u001b[0m\u001b[1;33m)\u001b[0m\u001b[1;33m:\u001b[0m\u001b[1;33m\u001b[0m\u001b[1;33m\u001b[0m\u001b[0m\n",
      "\u001b[1;32m~\\anaconda3\\lib\\site-packages\\pandas\\core\\apply.py\u001b[0m in \u001b[0;36mapply_standard\u001b[1;34m(self)\u001b[0m\n\u001b[0;32m    889\u001b[0m \u001b[1;33m\u001b[0m\u001b[0m\n\u001b[0;32m    890\u001b[0m     \u001b[1;32mdef\u001b[0m \u001b[0mapply_standard\u001b[0m\u001b[1;33m(\u001b[0m\u001b[0mself\u001b[0m\u001b[1;33m)\u001b[0m\u001b[1;33m:\u001b[0m\u001b[1;33m\u001b[0m\u001b[1;33m\u001b[0m\u001b[0m\n\u001b[1;32m--> 891\u001b[1;33m         \u001b[0mresults\u001b[0m\u001b[1;33m,\u001b[0m \u001b[0mres_index\u001b[0m \u001b[1;33m=\u001b[0m \u001b[0mself\u001b[0m\u001b[1;33m.\u001b[0m\u001b[0mapply_series_generator\u001b[0m\u001b[1;33m(\u001b[0m\u001b[1;33m)\u001b[0m\u001b[1;33m\u001b[0m\u001b[1;33m\u001b[0m\u001b[0m\n\u001b[0m\u001b[0;32m    892\u001b[0m \u001b[1;33m\u001b[0m\u001b[0m\n\u001b[0;32m    893\u001b[0m         \u001b[1;31m# wrap results\u001b[0m\u001b[1;33m\u001b[0m\u001b[1;33m\u001b[0m\u001b[0m\n",
      "\u001b[1;32m~\\anaconda3\\lib\\site-packages\\pandas\\core\\apply.py\u001b[0m in \u001b[0;36mapply_series_generator\u001b[1;34m(self)\u001b[0m\n\u001b[0;32m    905\u001b[0m             \u001b[1;32mfor\u001b[0m \u001b[0mi\u001b[0m\u001b[1;33m,\u001b[0m \u001b[0mv\u001b[0m \u001b[1;32min\u001b[0m \u001b[0menumerate\u001b[0m\u001b[1;33m(\u001b[0m\u001b[0mseries_gen\u001b[0m\u001b[1;33m)\u001b[0m\u001b[1;33m:\u001b[0m\u001b[1;33m\u001b[0m\u001b[1;33m\u001b[0m\u001b[0m\n\u001b[0;32m    906\u001b[0m                 \u001b[1;31m# ignore SettingWithCopy here in case the user mutates\u001b[0m\u001b[1;33m\u001b[0m\u001b[1;33m\u001b[0m\u001b[0m\n\u001b[1;32m--> 907\u001b[1;33m                 \u001b[0mresults\u001b[0m\u001b[1;33m[\u001b[0m\u001b[0mi\u001b[0m\u001b[1;33m]\u001b[0m \u001b[1;33m=\u001b[0m \u001b[0mself\u001b[0m\u001b[1;33m.\u001b[0m\u001b[0mf\u001b[0m\u001b[1;33m(\u001b[0m\u001b[0mv\u001b[0m\u001b[1;33m)\u001b[0m\u001b[1;33m\u001b[0m\u001b[1;33m\u001b[0m\u001b[0m\n\u001b[0m\u001b[0;32m    908\u001b[0m                 \u001b[1;32mif\u001b[0m \u001b[0misinstance\u001b[0m\u001b[1;33m(\u001b[0m\u001b[0mresults\u001b[0m\u001b[1;33m[\u001b[0m\u001b[0mi\u001b[0m\u001b[1;33m]\u001b[0m\u001b[1;33m,\u001b[0m \u001b[0mABCSeries\u001b[0m\u001b[1;33m)\u001b[0m\u001b[1;33m:\u001b[0m\u001b[1;33m\u001b[0m\u001b[1;33m\u001b[0m\u001b[0m\n\u001b[0;32m    909\u001b[0m                     \u001b[1;31m# If we have a view on v, we need to make a copy because\u001b[0m\u001b[1;33m\u001b[0m\u001b[1;33m\u001b[0m\u001b[0m\n",
      "\u001b[1;32m~\\anaconda3\\lib\\site-packages\\pandas\\core\\frame.py\u001b[0m in \u001b[0;36minfer\u001b[1;34m(x)\u001b[0m\n\u001b[0;32m   9649\u001b[0m             \u001b[1;32mif\u001b[0m \u001b[0mx\u001b[0m\u001b[1;33m.\u001b[0m\u001b[0mempty\u001b[0m\u001b[1;33m:\u001b[0m\u001b[1;33m\u001b[0m\u001b[1;33m\u001b[0m\u001b[0m\n\u001b[0;32m   9650\u001b[0m                 \u001b[1;32mreturn\u001b[0m \u001b[0mlib\u001b[0m\u001b[1;33m.\u001b[0m\u001b[0mmap_infer\u001b[0m\u001b[1;33m(\u001b[0m\u001b[0mx\u001b[0m\u001b[1;33m,\u001b[0m \u001b[0mfunc\u001b[0m\u001b[1;33m,\u001b[0m \u001b[0mignore_na\u001b[0m\u001b[1;33m=\u001b[0m\u001b[0mignore_na\u001b[0m\u001b[1;33m)\u001b[0m\u001b[1;33m\u001b[0m\u001b[1;33m\u001b[0m\u001b[0m\n\u001b[1;32m-> 9651\u001b[1;33m             \u001b[1;32mreturn\u001b[0m \u001b[0mlib\u001b[0m\u001b[1;33m.\u001b[0m\u001b[0mmap_infer\u001b[0m\u001b[1;33m(\u001b[0m\u001b[0mx\u001b[0m\u001b[1;33m.\u001b[0m\u001b[0mastype\u001b[0m\u001b[1;33m(\u001b[0m\u001b[0mobject\u001b[0m\u001b[1;33m)\u001b[0m\u001b[1;33m.\u001b[0m\u001b[0m_values\u001b[0m\u001b[1;33m,\u001b[0m \u001b[0mfunc\u001b[0m\u001b[1;33m,\u001b[0m \u001b[0mignore_na\u001b[0m\u001b[1;33m=\u001b[0m\u001b[0mignore_na\u001b[0m\u001b[1;33m)\u001b[0m\u001b[1;33m\u001b[0m\u001b[1;33m\u001b[0m\u001b[0m\n\u001b[0m\u001b[0;32m   9652\u001b[0m \u001b[1;33m\u001b[0m\u001b[0m\n\u001b[0;32m   9653\u001b[0m         \u001b[1;32mreturn\u001b[0m \u001b[0mself\u001b[0m\u001b[1;33m.\u001b[0m\u001b[0mapply\u001b[0m\u001b[1;33m(\u001b[0m\u001b[0minfer\u001b[0m\u001b[1;33m)\u001b[0m\u001b[1;33m.\u001b[0m\u001b[0m__finalize__\u001b[0m\u001b[1;33m(\u001b[0m\u001b[0mself\u001b[0m\u001b[1;33m,\u001b[0m \u001b[1;34m\"applymap\"\u001b[0m\u001b[1;33m)\u001b[0m\u001b[1;33m\u001b[0m\u001b[1;33m\u001b[0m\u001b[0m\n",
      "\u001b[1;32m~\\anaconda3\\lib\\site-packages\\pandas\\_libs\\lib.pyx\u001b[0m in \u001b[0;36mpandas._libs.lib.map_infer\u001b[1;34m()\u001b[0m\n",
      "\u001b[1;31mValueError\u001b[0m: invalid literal for int() with base 10: 'ПЛАН'"
     ]
    }
   ],
   "source": [
    "for file in os.listdir(path_to_data_flg):\n",
    "    name_file = file.split('.xlsx')[0]\n",
    "    print(name_file)\n",
    "    # открываем для чтения файл чтобы узнать границы датафрейма\n",
    "    _wb = openpyxl.load_workbook(f'{path_to_data_flg}/{file}',read_only=True) \n",
    "    first_value = '1.0' # определяем значения которые ищем\n",
    "    last_value = '7.2'\n",
    "\n",
    "    # Поиск значения в выбранном столбце\n",
    "    column_number = 1  # Номер столбца, в котором ищем значение (например, столбец A)\n",
    "    first_row = None  # Номер строки с искомым значением\n",
    "    last_row = None\n",
    "\n",
    "    # Ищем границы датафрейма\n",
    "    for row in _wb[_wb.sheetnames[0]].iter_rows(min_row=1, min_col=column_number, max_col=column_number):\n",
    "        cell_value = row[0].value\n",
    "        if first_value in str(cell_value):\n",
    "            first_row = row[0].row\n",
    "            break\n",
    "\n",
    "    for row in _wb[_wb.sheetnames[0]].iter_rows(min_row=1, min_col=column_number, max_col=column_number):\n",
    "        cell_value = row[0].value\n",
    "        if last_value in str(cell_value):\n",
    "            last_row = row[0].row\n",
    "            break\n",
    "            \n",
    "    _wb.close() #закрываем\n",
    "    # открываем датафрейм для обработки\n",
    "    df =pd.read_excel(f'{path_to_data_flg}/{file}',skiprows=first_row-1,header=None,nrows=last_row)\n",
    "    # получаем \n",
    "    temp_df = df[[2,8]]\n",
    "\n",
    "    temp_df.fillna(0,inplace=True)\n",
    "\n",
    "    temp_df = temp_df.applymap(int)\n",
    "\n",
    "    temp_df['% выполнения'] = round((temp_df[8] / temp_df[2]) *100,1)\n",
    "\n",
    "\n",
    "    \n",
    "    groups = [name_file,name_file,name_file]\n",
    "    columns = ['Год План','Выполнено','% ']\n",
    "    multi_index = pd.MultiIndex.from_arrays([groups, columns])\n",
    "    temp_df.columns = multi_index\n",
    "    if not base_df:\n",
    "        base_df = temp_df\n",
    "    \n",
    "    base_df = pd.concat([base_df,temp_df],axis=1)\n",
    "        "
   ]
  },
  {
   "cell_type": "code",
   "execution_count": null,
   "id": "d5790734",
   "metadata": {},
   "outputs": [],
   "source": []
  },
  {
   "cell_type": "code",
   "execution_count": null,
   "id": "4bf8bdd6",
   "metadata": {},
   "outputs": [],
   "source": []
  },
  {
   "cell_type": "code",
   "execution_count": null,
   "id": "6f1c1a85",
   "metadata": {},
   "outputs": [],
   "source": []
  },
  {
   "cell_type": "code",
   "execution_count": 116,
   "id": "e508d197",
   "metadata": {},
   "outputs": [],
   "source": [
    "_wb = openpyxl.load_workbook('data/2 гп ФЛГ за 12  мес 2022.xlsx',read_only=True)"
   ]
  },
  {
   "cell_type": "code",
   "execution_count": 117,
   "id": "7bb1978f",
   "metadata": {},
   "outputs": [],
   "source": [
    "first_value = '1.0' # определяем границы\n",
    "last_value = '7.2'"
   ]
  },
  {
   "cell_type": "code",
   "execution_count": 118,
   "id": "3d5838f3",
   "metadata": {},
   "outputs": [],
   "source": [
    "# Поиск значения в выбранном столбце\n",
    "column_number = 1  # Номер столбца, в котором ищем значение (например, столбец A)\n",
    "first_row = None  # Номер строки с искомым значением\n",
    "last_row = None"
   ]
  },
  {
   "cell_type": "code",
   "execution_count": 123,
   "id": "49148071",
   "metadata": {},
   "outputs": [
    {
     "name": "stdout",
     "output_type": "stream",
     "text": [
      "Приложение №1 к пр.МЗ РБ от ________№____( в соответствии с пр.МЗ РФ от 21.03.17г.№124н и СанПин от 22.10.13г.№60)\n"
     ]
    }
   ],
   "source": [
    "# Ищем границы датафрейма\n",
    "for row in _wb[_wb.sheetnames[0]].iter_rows(min_row=1, min_col=column_number, max_col=column_number):\n",
    "    cell_value = row[0].value\n",
    "    print(cell_value)\n",
    "    if first_value in str(cell_value):\n",
    "        first_row = row[0].row\n",
    "        break\n",
    "        \n",
    "for row in _wb[_wb.sheetnames[0]].iter_rows(min_row=1, min_col=column_number, max_col=column_number):\n",
    "    cell_value = row[0].value\n",
    "    if last_value in str(cell_value):\n",
    "        last_row = row[0].row\n",
    "        break"
   ]
  },
  {
   "cell_type": "code",
   "execution_count": 120,
   "id": "b58b9bf6",
   "metadata": {},
   "outputs": [
    {
     "data": {
      "text/plain": [
       "1"
      ]
     },
     "execution_count": 120,
     "metadata": {},
     "output_type": "execute_result"
    }
   ],
   "source": [
    "first_row"
   ]
  },
  {
   "cell_type": "code",
   "execution_count": 121,
   "id": "a3ad0209",
   "metadata": {},
   "outputs": [],
   "source": [
    "for row in _wb[_wb.sheetnames[0]].iter_rows(min_row=1, min_col=column_number, max_col=column_number):\n",
    "    cell_value = row[0].value\n",
    "    if last_value in str(cell_value):\n",
    "        last_row = row[0].row\n",
    "        break"
   ]
  },
  {
   "cell_type": "code",
   "execution_count": 122,
   "id": "7fa2add4",
   "metadata": {},
   "outputs": [
    {
     "data": {
      "text/plain": [
       "35"
      ]
     },
     "execution_count": 122,
     "metadata": {},
     "output_type": "execute_result"
    }
   ],
   "source": [
    "last_row"
   ]
  },
  {
   "cell_type": "code",
   "execution_count": 70,
   "id": "efc09922",
   "metadata": {},
   "outputs": [],
   "source": [
    "_wb.close()"
   ]
  },
  {
   "cell_type": "code",
   "execution_count": null,
   "id": "d2f7afcb",
   "metadata": {},
   "outputs": [],
   "source": []
  },
  {
   "cell_type": "code",
   "execution_count": 71,
   "id": "41295087",
   "metadata": {},
   "outputs": [],
   "source": [
    "df =pd.read_excel('data/бич ФЛГ 12 мес.2022г.xlsx',skiprows=first_row-1,header=None,nrows=last_row)"
   ]
  },
  {
   "cell_type": "code",
   "execution_count": 82,
   "id": "c52d1646",
   "metadata": {},
   "outputs": [],
   "source": [
    "temp_df = df[[2,8]]"
   ]
  },
  {
   "cell_type": "code",
   "execution_count": 83,
   "id": "357cf6cb",
   "metadata": {},
   "outputs": [
    {
     "name": "stderr",
     "output_type": "stream",
     "text": [
      "C:\\Users\\1\\AppData\\Local\\Temp/ipykernel_15332/567711560.py:1: SettingWithCopyWarning: \n",
      "A value is trying to be set on a copy of a slice from a DataFrame\n",
      "\n",
      "See the caveats in the documentation: https://pandas.pydata.org/pandas-docs/stable/user_guide/indexing.html#returning-a-view-versus-a-copy\n",
      "  temp_df.fillna(0,inplace=True)\n"
     ]
    }
   ],
   "source": [
    "temp_df.fillna(0,inplace=True)"
   ]
  },
  {
   "cell_type": "code",
   "execution_count": 84,
   "id": "1e0098ae",
   "metadata": {},
   "outputs": [],
   "source": [
    "temp_df = temp_df.applymap(int)"
   ]
  },
  {
   "cell_type": "code",
   "execution_count": 87,
   "id": "d22eba3f",
   "metadata": {},
   "outputs": [],
   "source": [
    "temp_df['% выполнения'] = round((temp_df[8] / temp_df[2]) *100,1)"
   ]
  },
  {
   "cell_type": "code",
   "execution_count": 89,
   "id": "487311e4",
   "metadata": {},
   "outputs": [],
   "source": [
    "temp_df.columns = ['Год План','Выполнено','% ']"
   ]
  },
  {
   "cell_type": "code",
   "execution_count": 93,
   "id": "e09e2fac",
   "metadata": {},
   "outputs": [],
   "source": [
    "groups = ['Бичурский район','Бичурский район','Бичурский район']\n",
    "columns = ['Год План','Выполнено','% ']\n",
    "multi_index = pd.MultiIndex.from_arrays([groups, columns])\n",
    "temp_df.columns = multi_index"
   ]
  },
  {
   "cell_type": "code",
   "execution_count": 99,
   "id": "221f94c1",
   "metadata": {},
   "outputs": [],
   "source": [
    "second_df = temp_df.copy()"
   ]
  },
  {
   "cell_type": "code",
   "execution_count": 100,
   "id": "1d23f150",
   "metadata": {},
   "outputs": [],
   "source": [
    "groups = ['Еравнинский район','Еравнинский район','Еравнинский район']\n",
    "columns = ['Год План','Выполнено','% ']\n",
    "multi_index = pd.MultiIndex.from_arrays([groups, columns])\n",
    "second_df.columns = multi_index"
   ]
  },
  {
   "cell_type": "code",
   "execution_count": 101,
   "id": "a9c8d335",
   "metadata": {},
   "outputs": [
    {
     "data": {
      "text/html": [
       "<div>\n",
       "<style scoped>\n",
       "    .dataframe tbody tr th:only-of-type {\n",
       "        vertical-align: middle;\n",
       "    }\n",
       "\n",
       "    .dataframe tbody tr th {\n",
       "        vertical-align: top;\n",
       "    }\n",
       "\n",
       "    .dataframe thead tr th {\n",
       "        text-align: left;\n",
       "    }\n",
       "</style>\n",
       "<table border=\"1\" class=\"dataframe\">\n",
       "  <thead>\n",
       "    <tr>\n",
       "      <th></th>\n",
       "      <th colspan=\"3\" halign=\"left\">Бичурский район</th>\n",
       "      <th colspan=\"3\" halign=\"left\">Еравнинский район</th>\n",
       "    </tr>\n",
       "    <tr>\n",
       "      <th></th>\n",
       "      <th>Год План</th>\n",
       "      <th>Выполнено</th>\n",
       "      <th>%</th>\n",
       "      <th>Год План</th>\n",
       "      <th>Выполнено</th>\n",
       "      <th>%</th>\n",
       "    </tr>\n",
       "  </thead>\n",
       "  <tbody>\n",
       "    <tr>\n",
       "      <th>0</th>\n",
       "      <td>564</td>\n",
       "      <td>546</td>\n",
       "      <td>96.8</td>\n",
       "      <td>564</td>\n",
       "      <td>546</td>\n",
       "      <td>96.8</td>\n",
       "    </tr>\n",
       "    <tr>\n",
       "      <th>1</th>\n",
       "      <td>26</td>\n",
       "      <td>24</td>\n",
       "      <td>92.3</td>\n",
       "      <td>26</td>\n",
       "      <td>24</td>\n",
       "      <td>92.3</td>\n",
       "    </tr>\n",
       "    <tr>\n",
       "      <th>2</th>\n",
       "      <td>63</td>\n",
       "      <td>59</td>\n",
       "      <td>93.7</td>\n",
       "      <td>63</td>\n",
       "      <td>59</td>\n",
       "      <td>93.7</td>\n",
       "    </tr>\n",
       "    <tr>\n",
       "      <th>3</th>\n",
       "      <td>24</td>\n",
       "      <td>21</td>\n",
       "      <td>87.5</td>\n",
       "      <td>24</td>\n",
       "      <td>21</td>\n",
       "      <td>87.5</td>\n",
       "    </tr>\n",
       "    <tr>\n",
       "      <th>4</th>\n",
       "      <td>43</td>\n",
       "      <td>42</td>\n",
       "      <td>97.7</td>\n",
       "      <td>43</td>\n",
       "      <td>42</td>\n",
       "      <td>97.7</td>\n",
       "    </tr>\n",
       "    <tr>\n",
       "      <th>5</th>\n",
       "      <td>312</td>\n",
       "      <td>309</td>\n",
       "      <td>99.0</td>\n",
       "      <td>312</td>\n",
       "      <td>309</td>\n",
       "      <td>99.0</td>\n",
       "    </tr>\n",
       "    <tr>\n",
       "      <th>6</th>\n",
       "      <td>86</td>\n",
       "      <td>81</td>\n",
       "      <td>94.2</td>\n",
       "      <td>86</td>\n",
       "      <td>81</td>\n",
       "      <td>94.2</td>\n",
       "    </tr>\n",
       "    <tr>\n",
       "      <th>7</th>\n",
       "      <td>1</td>\n",
       "      <td>1</td>\n",
       "      <td>100.0</td>\n",
       "      <td>1</td>\n",
       "      <td>1</td>\n",
       "      <td>100.0</td>\n",
       "    </tr>\n",
       "    <tr>\n",
       "      <th>8</th>\n",
       "      <td>9</td>\n",
       "      <td>9</td>\n",
       "      <td>100.0</td>\n",
       "      <td>9</td>\n",
       "      <td>9</td>\n",
       "      <td>100.0</td>\n",
       "    </tr>\n",
       "    <tr>\n",
       "      <th>9</th>\n",
       "      <td>0</td>\n",
       "      <td>0</td>\n",
       "      <td>NaN</td>\n",
       "      <td>0</td>\n",
       "      <td>0</td>\n",
       "      <td>NaN</td>\n",
       "    </tr>\n",
       "    <tr>\n",
       "      <th>10</th>\n",
       "      <td>1005</td>\n",
       "      <td>936</td>\n",
       "      <td>93.1</td>\n",
       "      <td>1005</td>\n",
       "      <td>936</td>\n",
       "      <td>93.1</td>\n",
       "    </tr>\n",
       "    <tr>\n",
       "      <th>11</th>\n",
       "      <td>533</td>\n",
       "      <td>496</td>\n",
       "      <td>93.1</td>\n",
       "      <td>533</td>\n",
       "      <td>496</td>\n",
       "      <td>93.1</td>\n",
       "    </tr>\n",
       "    <tr>\n",
       "      <th>12</th>\n",
       "      <td>22</td>\n",
       "      <td>21</td>\n",
       "      <td>95.5</td>\n",
       "      <td>22</td>\n",
       "      <td>21</td>\n",
       "      <td>95.5</td>\n",
       "    </tr>\n",
       "    <tr>\n",
       "      <th>13</th>\n",
       "      <td>239</td>\n",
       "      <td>226</td>\n",
       "      <td>94.6</td>\n",
       "      <td>239</td>\n",
       "      <td>226</td>\n",
       "      <td>94.6</td>\n",
       "    </tr>\n",
       "    <tr>\n",
       "      <th>14</th>\n",
       "      <td>183</td>\n",
       "      <td>165</td>\n",
       "      <td>90.2</td>\n",
       "      <td>183</td>\n",
       "      <td>165</td>\n",
       "      <td>90.2</td>\n",
       "    </tr>\n",
       "    <tr>\n",
       "      <th>15</th>\n",
       "      <td>28</td>\n",
       "      <td>28</td>\n",
       "      <td>100.0</td>\n",
       "      <td>28</td>\n",
       "      <td>28</td>\n",
       "      <td>100.0</td>\n",
       "    </tr>\n",
       "    <tr>\n",
       "      <th>16</th>\n",
       "      <td>0</td>\n",
       "      <td>0</td>\n",
       "      <td>NaN</td>\n",
       "      <td>0</td>\n",
       "      <td>0</td>\n",
       "      <td>NaN</td>\n",
       "    </tr>\n",
       "    <tr>\n",
       "      <th>17</th>\n",
       "      <td>0</td>\n",
       "      <td>0</td>\n",
       "      <td>NaN</td>\n",
       "      <td>0</td>\n",
       "      <td>0</td>\n",
       "      <td>NaN</td>\n",
       "    </tr>\n",
       "    <tr>\n",
       "      <th>18</th>\n",
       "      <td>0</td>\n",
       "      <td>0</td>\n",
       "      <td>NaN</td>\n",
       "      <td>0</td>\n",
       "      <td>0</td>\n",
       "      <td>NaN</td>\n",
       "    </tr>\n",
       "    <tr>\n",
       "      <th>19</th>\n",
       "      <td>1706</td>\n",
       "      <td>1682</td>\n",
       "      <td>98.6</td>\n",
       "      <td>1706</td>\n",
       "      <td>1682</td>\n",
       "      <td>98.6</td>\n",
       "    </tr>\n",
       "    <tr>\n",
       "      <th>20</th>\n",
       "      <td>780</td>\n",
       "      <td>780</td>\n",
       "      <td>100.0</td>\n",
       "      <td>780</td>\n",
       "      <td>780</td>\n",
       "      <td>100.0</td>\n",
       "    </tr>\n",
       "    <tr>\n",
       "      <th>21</th>\n",
       "      <td>86</td>\n",
       "      <td>86</td>\n",
       "      <td>100.0</td>\n",
       "      <td>86</td>\n",
       "      <td>86</td>\n",
       "      <td>100.0</td>\n",
       "    </tr>\n",
       "    <tr>\n",
       "      <th>22</th>\n",
       "      <td>344</td>\n",
       "      <td>344</td>\n",
       "      <td>100.0</td>\n",
       "      <td>344</td>\n",
       "      <td>344</td>\n",
       "      <td>100.0</td>\n",
       "    </tr>\n",
       "    <tr>\n",
       "      <th>23</th>\n",
       "      <td>39</td>\n",
       "      <td>39</td>\n",
       "      <td>100.0</td>\n",
       "      <td>39</td>\n",
       "      <td>39</td>\n",
       "      <td>100.0</td>\n",
       "    </tr>\n",
       "    <tr>\n",
       "      <th>24</th>\n",
       "      <td>63</td>\n",
       "      <td>61</td>\n",
       "      <td>96.8</td>\n",
       "      <td>63</td>\n",
       "      <td>61</td>\n",
       "      <td>96.8</td>\n",
       "    </tr>\n",
       "    <tr>\n",
       "      <th>25</th>\n",
       "      <td>394</td>\n",
       "      <td>372</td>\n",
       "      <td>94.4</td>\n",
       "      <td>394</td>\n",
       "      <td>372</td>\n",
       "      <td>94.4</td>\n",
       "    </tr>\n",
       "    <tr>\n",
       "      <th>26</th>\n",
       "      <td>0</td>\n",
       "      <td>0</td>\n",
       "      <td>NaN</td>\n",
       "      <td>0</td>\n",
       "      <td>0</td>\n",
       "      <td>NaN</td>\n",
       "    </tr>\n",
       "    <tr>\n",
       "      <th>27</th>\n",
       "      <td>3489</td>\n",
       "      <td>3354</td>\n",
       "      <td>96.1</td>\n",
       "      <td>3489</td>\n",
       "      <td>3354</td>\n",
       "      <td>96.1</td>\n",
       "    </tr>\n",
       "    <tr>\n",
       "      <th>28</th>\n",
       "      <td>7915</td>\n",
       "      <td>7026</td>\n",
       "      <td>88.8</td>\n",
       "      <td>7915</td>\n",
       "      <td>7026</td>\n",
       "      <td>88.8</td>\n",
       "    </tr>\n",
       "    <tr>\n",
       "      <th>29</th>\n",
       "      <td>14679</td>\n",
       "      <td>13544</td>\n",
       "      <td>92.3</td>\n",
       "      <td>14679</td>\n",
       "      <td>13544</td>\n",
       "      <td>92.3</td>\n",
       "    </tr>\n",
       "    <tr>\n",
       "      <th>30</th>\n",
       "      <td>712</td>\n",
       "      <td>668</td>\n",
       "      <td>93.8</td>\n",
       "      <td>712</td>\n",
       "      <td>668</td>\n",
       "      <td>93.8</td>\n",
       "    </tr>\n",
       "    <tr>\n",
       "      <th>31</th>\n",
       "      <td>0</td>\n",
       "      <td>0</td>\n",
       "      <td>NaN</td>\n",
       "      <td>0</td>\n",
       "      <td>0</td>\n",
       "      <td>NaN</td>\n",
       "    </tr>\n",
       "  </tbody>\n",
       "</table>\n",
       "</div>"
      ],
      "text/plain": [
       "   Бичурский район                  Еравнинский район                 \n",
       "          Год План Выполнено     %           Год План Выполнено     % \n",
       "0              564       546   96.8               564       546   96.8\n",
       "1               26        24   92.3                26        24   92.3\n",
       "2               63        59   93.7                63        59   93.7\n",
       "3               24        21   87.5                24        21   87.5\n",
       "4               43        42   97.7                43        42   97.7\n",
       "5              312       309   99.0               312       309   99.0\n",
       "6               86        81   94.2                86        81   94.2\n",
       "7                1         1  100.0                 1         1  100.0\n",
       "8                9         9  100.0                 9         9  100.0\n",
       "9                0         0    NaN                 0         0    NaN\n",
       "10            1005       936   93.1              1005       936   93.1\n",
       "11             533       496   93.1               533       496   93.1\n",
       "12              22        21   95.5                22        21   95.5\n",
       "13             239       226   94.6               239       226   94.6\n",
       "14             183       165   90.2               183       165   90.2\n",
       "15              28        28  100.0                28        28  100.0\n",
       "16               0         0    NaN                 0         0    NaN\n",
       "17               0         0    NaN                 0         0    NaN\n",
       "18               0         0    NaN                 0         0    NaN\n",
       "19            1706      1682   98.6              1706      1682   98.6\n",
       "20             780       780  100.0               780       780  100.0\n",
       "21              86        86  100.0                86        86  100.0\n",
       "22             344       344  100.0               344       344  100.0\n",
       "23              39        39  100.0                39        39  100.0\n",
       "24              63        61   96.8                63        61   96.8\n",
       "25             394       372   94.4               394       372   94.4\n",
       "26               0         0    NaN                 0         0    NaN\n",
       "27            3489      3354   96.1              3489      3354   96.1\n",
       "28            7915      7026   88.8              7915      7026   88.8\n",
       "29           14679     13544   92.3             14679     13544   92.3\n",
       "30             712       668   93.8               712       668   93.8\n",
       "31               0         0    NaN                 0         0    NaN"
      ]
     },
     "execution_count": 101,
     "metadata": {},
     "output_type": "execute_result"
    }
   ],
   "source": [
    "pd.concat([temp_df,second_df],axis=1)"
   ]
  },
  {
   "cell_type": "code",
   "execution_count": null,
   "id": "be8d5d72",
   "metadata": {},
   "outputs": [],
   "source": []
  },
  {
   "cell_type": "code",
   "execution_count": 91,
   "id": "a15dcf55",
   "metadata": {},
   "outputs": [
    {
     "name": "stdout",
     "output_type": "stream",
     "text": [
      "   Group 1           Group 2\n",
      "  Column 1 Column 2 Column 3\n",
      "0        1        4        7\n",
      "1        2        5        8\n",
      "2        3        6        9\n"
     ]
    }
   ],
   "source": [
    "df = pd.DataFrame({'A': [1, 2, 3],\n",
    "                   'B': [4, 5, 6],\n",
    "                   'C': [7, 8, 9]})\n",
    "\n",
    "# Создание мультииндекса для колонок\n",
    "groups = ['Group 1', 'Group 1', 'Group 2']\n",
    "columns = ['Column 1', 'Column 2', 'Column 3']\n",
    "multi_index = pd.MultiIndex.from_arrays([groups, columns])\n",
    "\n",
    "# Присвоение мультииндекса колонкам DataFrame\n",
    "df.columns = multi_index\n",
    "\n",
    "# Вывод DataFrame с мультииндексом для колонок\n",
    "print(df)"
   ]
  },
  {
   "cell_type": "code",
   "execution_count": null,
   "id": "75cff85d",
   "metadata": {},
   "outputs": [],
   "source": []
  },
  {
   "cell_type": "code",
   "execution_count": null,
   "id": "534b608e",
   "metadata": {},
   "outputs": [],
   "source": []
  },
  {
   "cell_type": "code",
   "execution_count": null,
   "id": "890a75da",
   "metadata": {},
   "outputs": [],
   "source": []
  },
  {
   "cell_type": "code",
   "execution_count": null,
   "id": "bce2f5f2",
   "metadata": {},
   "outputs": [],
   "source": []
  }
 ],
 "metadata": {
  "kernelspec": {
   "display_name": "Python 3 (ipykernel)",
   "language": "python",
   "name": "python3"
  },
  "language_info": {
   "codemirror_mode": {
    "name": "ipython",
    "version": 3
   },
   "file_extension": ".py",
   "mimetype": "text/x-python",
   "name": "python",
   "nbconvert_exporter": "python",
   "pygments_lexer": "ipython3",
   "version": "3.9.7"
  }
 },
 "nbformat": 4,
 "nbformat_minor": 5
}
